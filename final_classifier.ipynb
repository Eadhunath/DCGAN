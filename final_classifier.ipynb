{
  "nbformat": 4,
  "nbformat_minor": 0,
  "metadata": {
    "kernelspec": {
      "display_name": "Python 3",
      "language": "python",
      "name": "python3"
    },
    "language_info": {
      "codemirror_mode": {
        "name": "ipython",
        "version": 3
      },
      "file_extension": ".py",
      "mimetype": "text/x-python",
      "name": "python",
      "nbconvert_exporter": "python",
      "pygments_lexer": "ipython3",
      "version": "3.6.2"
    },
    "colab": {
      "name": "head-ct-hemorrhage-detection-with-keras.ipynb",
      "provenance": [],
      "toc_visible": true
    },
    "accelerator": "GPU"
  },
  "cells": [
    {
      "cell_type": "code",
      "metadata": {
        "trusted": false,
        "_uuid": "8b9a74f00b6d760a57037c5c885e338c072a741b",
        "id": "Z_8k60MZwYQS",
        "colab_type": "code",
        "outputId": "9b8a5ede-f2fc-494d-ea36-e0b8f3532234",
        "colab": {
          "base_uri": "https://localhost:8080/",
          "height": 51
        }
      },
      "source": [
        "import pandas as pd\n",
        "import numpy as np\n",
        "import matplotlib.pyplot as plt\n",
        "import seaborn as sns\n",
        "import cv2\n",
        "import glob\n",
        "\n",
        "%matplotlib inline"
      ],
      "execution_count": 1,
      "outputs": [
        {
          "output_type": "stream",
          "text": [
            "/usr/local/lib/python3.6/dist-packages/statsmodels/tools/_testing.py:19: FutureWarning: pandas.util.testing is deprecated. Use the functions in the public API at pandas.testing instead.\n",
            "  import pandas.util.testing as tm\n"
          ],
          "name": "stderr"
        }
      ]
    },
    {
      "cell_type": "code",
      "metadata": {
        "id": "pSKRdRLlwoJX",
        "colab_type": "code",
        "outputId": "006efb13-be29-4432-91bb-5a073b917552",
        "colab": {
          "base_uri": "https://localhost:8080/",
          "height": 34
        }
      },
      "source": [
        "from google.colab import drive\n",
        "drive.mount('/content/drive')"
      ],
      "execution_count": 2,
      "outputs": [
        {
          "output_type": "stream",
          "text": [
            "Drive already mounted at /content/drive; to attempt to forcibly remount, call drive.mount(\"/content/drive\", force_remount=True).\n"
          ],
          "name": "stdout"
        }
      ]
    },
    {
      "cell_type": "code",
      "metadata": {
        "trusted": false,
        "_uuid": "51272c641ae50dbbd0437d4a7b9761cffff0d4c6",
        "id": "L6SWfnBOwYQY",
        "colab_type": "code",
        "colab": {}
      },
      "source": [
        "# labels_df = pd.read_csv('/content/drive/My Drive/CS577/Brains/labels.csv')\n",
        "# labels = np.array(labels_df[' hemorrhage'].tolist())\n",
        "\n",
        "# files = sorted(glob.glob('/content/drive/My Drive/CS577/Brains/head_ct/*.png'))\n",
        "# images = np.array([cv2.imread(path) for path in files])\n",
        "# images = np.array([cv2.resize(image, (64, 64)) for image in images])"
      ],
      "execution_count": 0,
      "outputs": []
    },
    {
      "cell_type": "code",
      "metadata": {
        "trusted": false,
        "_uuid": "441a15a29a523a5b6325948fdbf9eb2eb7fe6153",
        "id": "PrpRcx_ZwYRZ",
        "colab_type": "code",
        "outputId": "18eccdaa-c875-47d7-efc9-d1d024eee72b",
        "colab": {
          "base_uri": "https://localhost:8080/",
          "height": 34
        }
      },
      "source": [
        "import keras"
      ],
      "execution_count": 9,
      "outputs": [
        {
          "output_type": "stream",
          "text": [
            "Using TensorFlow backend.\n"
          ],
          "name": "stderr"
        }
      ]
    },
    {
      "cell_type": "code",
      "metadata": {
        "trusted": false,
        "_uuid": "81e076f835947073467cb5d89bc8cb377f90b456",
        "id": "-jKWdzE5wYRd",
        "colab_type": "code",
        "colab": {}
      },
      "source": [
        "from keras.models import Sequential\n",
        "from keras.layers import Dense, Input, Flatten, Dropout, Conv2D, MaxPooling2D, GlobalAveragePooling2D, GlobalMaxPooling2D\n",
        "from keras.callbacks import ModelCheckpoint\n",
        "from keras.preprocessing.image import ImageDataGenerator\n",
        "from sklearn.metrics import confusion_matrix\n",
        "\n",
        "import math"
      ],
      "execution_count": 0,
      "outputs": []
    },
    {
      "cell_type": "markdown",
      "metadata": {
        "_uuid": "8548a8996cc2093399a3b7a63ddd0f7e734c6a7e",
        "id": "1XW2P9G3wYRk",
        "colab_type": "text"
      },
      "source": [
        "# Image augmentation"
      ]
    },
    {
      "cell_type": "code",
      "metadata": {
        "trusted": false,
        "_uuid": "fb049069ee15d4771a54e891e9ff82d512fa6484",
        "id": "hKAGJCd2wYRl",
        "colab_type": "code",
        "colab": {
          "base_uri": "https://localhost:8080/",
          "height": 51
        },
        "outputId": "b8221c11-0371-48a5-a192-4ef59523cf9a"
      },
      "source": [
        "train_image_data = ImageDataGenerator(\n",
        "    rescale=1./255,\n",
        "    shear_range=0.,\n",
        "    zoom_range=0.05,\n",
        "    rotation_range=180,\n",
        "    width_shift_range=0.05,\n",
        "    height_shift_range=0.05,\n",
        "    horizontal_flip=True,\n",
        "    vertical_flip=True,\n",
        "    fill_mode='constant',\n",
        "    cval=0\n",
        ").flow_from_directory('/content/data/', class_mode='binary', batch_size=128, target_size=(64,64),)\n",
        "\n",
        "validation_image_data = ImageDataGenerator(\n",
        "    rescale=1./255,\n",
        "    shear_range=0.,\n",
        "    zoom_range=0.05,\n",
        "    rotation_range=90,\n",
        "    width_shift_range=0.05,\n",
        "    height_shift_range=0.05,\n",
        "    horizontal_flip=True,\n",
        "    vertical_flip=True,\n",
        "    fill_mode='constant',\n",
        "    cval=0).flow_from_directory('/content/val/', class_mode='binary', batch_size=128, target_size=(64,64),)"
      ],
      "execution_count": 40,
      "outputs": [
        {
          "output_type": "stream",
          "text": [
            "Found 1432 images belonging to 2 classes.\n",
            "Found 116 images belonging to 2 classes.\n"
          ],
          "name": "stdout"
        }
      ]
    },
    {
      "cell_type": "markdown",
      "metadata": {
        "_uuid": "fadf7acd285d3ac9d4233831ed6ef2da4037f466",
        "id": "dIkPEVq8wYRv",
        "colab_type": "text"
      },
      "source": [
        "# Building the model"
      ]
    },
    {
      "cell_type": "code",
      "metadata": {
        "trusted": false,
        "_uuid": "1a2723eb634f5768321b7c4546292f0954bbbada",
        "id": "bGdsYYcewYRw",
        "colab_type": "code",
        "colab": {}
      },
      "source": [
        "def check_accuracy(model, setX, actual, print_images=True):\n",
        "    predicted = np.array([int(x[0] > 0.5) for x in model.predict(setX)])\n",
        "    if print_images:\n",
        "        rows = math.ceil(len(predicted)/10.)\n",
        "        plt.figure(figsize=(20, 3 * rows))\n",
        "        for i in range(len(predicted)):\n",
        "            plt.subplot(rows, 10, i+1)\n",
        "            plt.imshow(setX[i])\n",
        "            plt.title(\"pred \"+str(predicted[i])+\" actual \"+str(actual[i]))\n",
        "        \n",
        "    confusion = confusion_matrix(actual, predicted)\n",
        "    tn, fp, fn, tp = confusion.ravel()\n",
        "    print(\"True positive:\", tp, \", True negative:\", tn,\n",
        "          \", False positive:\", fp, \", False negative:\", fn)\n",
        "\n",
        "    print(\"Total accuracy:\", np.sum(predicted==actual) / len(predicted) * 100., \"%\")\n",
        "    return (tn, fp, fn, tp)"
      ],
      "execution_count": 0,
      "outputs": []
    },
    {
      "cell_type": "code",
      "metadata": {
        "trusted": false,
        "_uuid": "45b351d7ece688d9960fa1d883639ccd0cdefdb0",
        "id": "hVhzv_T8wYRy",
        "colab_type": "code",
        "colab": {}
      },
      "source": [
        "def simple_conv_model(input_shape):\n",
        "    model = Sequential()\n",
        "    \n",
        "    model.add(Conv2D(32, kernel_size=3, strides=2, padding='same', activation='relu', input_shape=input_shape))\n",
        "    model.add(MaxPooling2D(pool_size=2))\n",
        "    model.add(Conv2D(32, kernel_size=3, strides=2, padding='same', activation='relu'))\n",
        "    model.add(MaxPooling2D(pool_size=2))\n",
        "    model.add(Conv2D(64, kernel_size=3, strides=2, padding='same', activation='relu'))\n",
        "    \n",
        "    model.add(GlobalAveragePooling2D())\n",
        "    model.add(Dropout(0.4))\n",
        "    \n",
        "    model.add(Dense(32, activation='relu'))\n",
        "    model.add(Dropout(0.4))\n",
        "    \n",
        "    model.add(Dense(1, activation='sigmoid'))\n",
        "    return model"
      ],
      "execution_count": 0,
      "outputs": []
    },
    {
      "cell_type": "code",
      "metadata": {
        "trusted": false,
        "_uuid": "3860aa96b967acdeff08e152282a5f3362fcd7d8",
        "id": "2sMshVJqwYR1",
        "colab_type": "code",
        "colab": {}
      },
      "source": [
        "model = simple_conv_model((64, 64, 3))\n",
        "model.compile(loss='binary_crossentropy', optimizer='rmsprop', metrics=['accuracy'])"
      ],
      "execution_count": 0,
      "outputs": []
    },
    {
      "cell_type": "code",
      "metadata": {
        "trusted": false,
        "_uuid": "89c8c807388c0577f029a3d609fd2e4895cb26f3",
        "id": "pFTB7N_BwYR4",
        "colab_type": "code",
        "colab": {
          "base_uri": "https://localhost:8080/",
          "height": 493
        },
        "outputId": "b4ff75d6-212f-4401-b135-7007458d92ff"
      },
      "source": [
        "model.summary()"
      ],
      "execution_count": 47,
      "outputs": [
        {
          "output_type": "stream",
          "text": [
            "Model: \"sequential_2\"\n",
            "_________________________________________________________________\n",
            "Layer (type)                 Output Shape              Param #   \n",
            "=================================================================\n",
            "conv2d_4 (Conv2D)            (None, 32, 32, 32)        896       \n",
            "_________________________________________________________________\n",
            "max_pooling2d_3 (MaxPooling2 (None, 16, 16, 32)        0         \n",
            "_________________________________________________________________\n",
            "conv2d_5 (Conv2D)            (None, 8, 8, 32)          9248      \n",
            "_________________________________________________________________\n",
            "max_pooling2d_4 (MaxPooling2 (None, 4, 4, 32)          0         \n",
            "_________________________________________________________________\n",
            "conv2d_6 (Conv2D)            (None, 2, 2, 64)          18496     \n",
            "_________________________________________________________________\n",
            "global_average_pooling2d_2 ( (None, 64)                0         \n",
            "_________________________________________________________________\n",
            "dropout_3 (Dropout)          (None, 64)                0         \n",
            "_________________________________________________________________\n",
            "dense_3 (Dense)              (None, 32)                2080      \n",
            "_________________________________________________________________\n",
            "dropout_4 (Dropout)          (None, 32)                0         \n",
            "_________________________________________________________________\n",
            "dense_4 (Dense)              (None, 1)                 33        \n",
            "=================================================================\n",
            "Total params: 30,753\n",
            "Trainable params: 30,753\n",
            "Non-trainable params: 0\n",
            "_________________________________________________________________\n"
          ],
          "name": "stdout"
        }
      ]
    },
    {
      "cell_type": "markdown",
      "metadata": {
        "_uuid": "4bc662aed6cc21c81c5f1af0cb8ce554bb4f90a3",
        "id": "9HFCmmXfwYR7",
        "colab_type": "text"
      },
      "source": [
        "# Training model"
      ]
    },
    {
      "cell_type": "code",
      "metadata": {
        "trusted": false,
        "_uuid": "6b559e9e337732a83d875102e5c0c132f904c60c",
        "id": "jTrE-X_AwYR7",
        "colab_type": "code",
        "colab": {
          "base_uri": "https://localhost:8080/",
          "height": 615
        },
        "outputId": "38aa8571-d41b-42c4-e5ec-ee2e821facc7"
      },
      "source": [
        "model_history = model.fit_generator(train_image_data,\n",
        "    steps_per_epoch=128,\n",
        "    validation_data=validation_image_data,\n",
        "    validation_steps=100,\n",
        "    callbacks=[ModelCheckpoint(\"weights.h5\", monitor='val_acc', save_best_only=True, mode='max')],\n",
        "    epochs=16)"
      ],
      "execution_count": 49,
      "outputs": [
        {
          "output_type": "stream",
          "text": [
            "Epoch 1/16\n",
            "128/128 [==============================] - 62s 483ms/step - loss: 0.6304 - accuracy: 0.6473 - val_loss: 0.5187 - val_accuracy: 0.7935\n",
            "Epoch 2/16\n",
            "  1/128 [..............................] - ETA: 1s - loss: 0.5461 - accuracy: 0.7578"
          ],
          "name": "stdout"
        },
        {
          "output_type": "stream",
          "text": [
            "/usr/local/lib/python3.6/dist-packages/keras/callbacks/callbacks.py:707: RuntimeWarning: Can save best model only with val_acc available, skipping.\n",
            "  'skipping.' % (self.monitor), RuntimeWarning)\n"
          ],
          "name": "stderr"
        },
        {
          "output_type": "stream",
          "text": [
            "128/128 [==============================] - 62s 482ms/step - loss: 0.5285 - accuracy: 0.7420 - val_loss: 0.3882 - val_accuracy: 0.8513\n",
            "Epoch 3/16\n",
            "128/128 [==============================] - 61s 477ms/step - loss: 0.4620 - accuracy: 0.7929 - val_loss: 0.4124 - val_accuracy: 0.8197\n",
            "Epoch 4/16\n",
            "128/128 [==============================] - 59s 460ms/step - loss: 0.4126 - accuracy: 0.8259 - val_loss: 0.2784 - val_accuracy: 0.8951\n",
            "Epoch 5/16\n",
            "128/128 [==============================] - 61s 478ms/step - loss: 0.3804 - accuracy: 0.8435 - val_loss: 0.3379 - val_accuracy: 0.8650\n",
            "Epoch 6/16\n",
            "128/128 [==============================] - 61s 474ms/step - loss: 0.3490 - accuracy: 0.8626 - val_loss: 0.1824 - val_accuracy: 0.9176\n",
            "Epoch 7/16\n",
            "128/128 [==============================] - 59s 464ms/step - loss: 0.3148 - accuracy: 0.8791 - val_loss: 0.2295 - val_accuracy: 0.9134\n",
            "Epoch 8/16\n",
            "128/128 [==============================] - 61s 479ms/step - loss: 0.3044 - accuracy: 0.8848 - val_loss: 0.2596 - val_accuracy: 0.9121\n",
            "Epoch 9/16\n",
            "128/128 [==============================] - 61s 476ms/step - loss: 0.2715 - accuracy: 0.9016 - val_loss: 0.2561 - val_accuracy: 0.9129\n",
            "Epoch 10/16\n",
            "128/128 [==============================] - 59s 463ms/step - loss: 0.2666 - accuracy: 0.9058 - val_loss: 0.1620 - val_accuracy: 0.9424\n",
            "Epoch 11/16\n",
            "128/128 [==============================] - 62s 484ms/step - loss: 0.2371 - accuracy: 0.9158 - val_loss: 0.1373 - val_accuracy: 0.9316\n",
            "Epoch 12/16\n",
            "128/128 [==============================] - 61s 479ms/step - loss: 0.2292 - accuracy: 0.9214 - val_loss: 0.1676 - val_accuracy: 0.9388\n",
            "Epoch 13/16\n",
            "128/128 [==============================] - 59s 463ms/step - loss: 0.2263 - accuracy: 0.9209 - val_loss: 0.1594 - val_accuracy: 0.9413\n",
            "Epoch 14/16\n",
            "128/128 [==============================] - 62s 481ms/step - loss: 0.2091 - accuracy: 0.9281 - val_loss: 0.1674 - val_accuracy: 0.9402\n",
            "Epoch 15/16\n",
            "128/128 [==============================] - 61s 475ms/step - loss: 0.2028 - accuracy: 0.9295 - val_loss: 0.1609 - val_accuracy: 0.9438\n",
            "Epoch 16/16\n",
            "128/128 [==============================] - 59s 460ms/step - loss: 0.1955 - accuracy: 0.9308 - val_loss: 0.3872 - val_accuracy: 0.8305\n"
          ],
          "name": "stdout"
        }
      ]
    },
    {
      "cell_type": "code",
      "metadata": {
        "id": "r7SmYKAT0qIz",
        "colab_type": "code",
        "colab": {}
      },
      "source": [
        "def viz_model_performance(acc, val_acc, loss, val_loss):\n",
        "    fig,a = plt.subplots(1,2, figsize=(12,5))\n",
        "\n",
        "    a[0].plot(acc)\n",
        "    a[0].plot(val_acc)\n",
        "    a[0].set_title('Model accuracy')\n",
        "    a[0].set_ylabel('Accuracy')\n",
        "    a[0].set_xlabel('Epoch')\n",
        "    a[0].legend(['Train', 'Validation'], loc='upper left')\n",
        "\n",
        "    a[1].plot(loss)\n",
        "    a[1].plot(val_loss)\n",
        "    a[1].set_title('Model loss')\n",
        "    a[1].set_ylabel('Loss')\n",
        "    a[1].set_xlabel('Epoch')\n",
        "    a[1].legend(['Train', 'Validation'], loc='upper right')\n",
        "    plt.show()"
      ],
      "execution_count": 0,
      "outputs": []
    },
    {
      "cell_type": "code",
      "metadata": {
        "id": "Xx2Pw1SjHOnA",
        "colab_type": "code",
        "colab": {
          "base_uri": "https://localhost:8080/",
          "height": 350
        },
        "outputId": "e066f1ec-df40-4196-8e8b-a76a97f0726c"
      },
      "source": [
        "viz_model_performance(model_history.history['accuracy'][:-1],\n",
        "                      model_history.history['val_accuracy'][:-1],\n",
        "                      model_history.history['loss'][:-1],\n",
        "                      model_history.history['val_loss'][:-1])"
      ],
      "execution_count": 52,
      "outputs": [
        {
          "output_type": "display_data",
          "data": {
            "image/png": "[encoded data removed]",
            "text/plain": [
              "<Figure size 864x360 with 2 Axes>"
            ]
          },
          "metadata": {
            "tags": [],
            "needs_background": "light"
          }
        }
      ]
    },
    {
      "cell_type": "code",
      "metadata": {
        "trusted": false,
        "_uuid": "2a3de977af6ebdc657051713f36611734acdc5e3",
        "id": "dvpLjlMLwYSC",
        "colab_type": "code",
        "colab": {}
      },
      "source": [
        "model.save(\"final_weights_classifier.h5\")"
      ],
      "execution_count": 0,
      "outputs": []
    },
    {
      "cell_type": "markdown",
      "metadata": {
        "_uuid": "54fad30ac253ba4f2af7d716324a21c78542efc8",
        "id": "VSjqU-qtwYSN",
        "colab_type": "text"
      },
      "source": [
        "The overall generalization of model seems good, overfitting isn't too big. But since this is a medical problem, we have to consider one additional thing."
      ]
    }
  ]
}