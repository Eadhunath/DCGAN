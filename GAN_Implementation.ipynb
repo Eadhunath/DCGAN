{
  "nbformat": 4,
  "nbformat_minor": 0,
  "metadata": {
    "colab": {
      "name": "Copy of GAN_Attempt_2.ipynb",
      "provenance": [],
      "collapsed_sections": [],
      "toc_visible": true
    },
    "kernelspec": {
      "name": "python3",
      "display_name": "Python 3"
    },
    "accelerator": "TPU"
  },
  "cells": [
    {
      "cell_type": "code",
      "metadata": {
        "colab_type": "code",
        "id": "OPqvUfpco-Tz",
        "colab": {}
      },
      "source": [
        "# Nicely formatted time string\n",
        "def hms_string(sec_elapsed):\n",
        "    h = int(sec_elapsed / (60 * 60))\n",
        "    m = int((sec_elapsed % (60 * 60)) / 60)\n",
        "    s = sec_elapsed % 60\n",
        "    return \"{}:{:>02}:{:>05.2f}\".format(h, m, s)"
      ],
      "execution_count": 0,
      "outputs": []
    },
    {
      "cell_type": "code",
      "metadata": {
        "colab_type": "code",
        "outputId": "0ced06a4-4944-4717-86b2-d329d7afc120",
        "id": "XhdZ5IVAo-T9",
        "colab": {
          "base_uri": "https://localhost:8080/",
          "height": 122
        }
      },
      "source": [
        "# To connect on Google Drive\n",
        "from google.colab import drive\n",
        "drive.mount('/content/drive', force_remount=True)\n",
        "COLAB = True"
      ],
      "execution_count": 2,
      "outputs": [
        {
          "output_type": "stream",
          "text": [
            "Go to this URL in a browser: https://accounts.google.com/o/oauth2/auth?client_id=947318989803-6bn6qk8qdgf4n4g3pfee6491hc0brc4i.apps.googleusercontent.com&redirect_uri=urn%3aietf%3awg%3aoauth%3a2.0%3aoob&response_type=code&scope=email%20https%3a%2f%2fwww.googleapis.com%2fauth%2fdocs.test%20https%3a%2f%2fwww.googleapis.com%2fauth%2fdrive%20https%3a%2f%2fwww.googleapis.com%2fauth%2fdrive.photos.readonly%20https%3a%2f%2fwww.googleapis.com%2fauth%2fpeopleapi.readonly\n",
            "\n",
            "Enter your authorization code:\n",
            "··········\n",
            "Mounted at /content/drive\n"
          ],
          "name": "stdout"
        }
      ]
    },
    {
      "cell_type": "markdown",
      "metadata": {
        "id": "TtkUScsEpdVF",
        "colab_type": "text"
      },
      "source": [
        "#Standard Augmentation\n"
      ]
    },
    {
      "cell_type": "code",
      "metadata": {
        "id": "El5ztO-akvBT",
        "colab_type": "code",
        "outputId": "71c6bb2d-190a-43e8-fe75-1cdf33429b21",
        "colab": {
          "base_uri": "https://localhost:8080/",
          "height": 34
        }
      },
      "source": [
        "from keras.preprocessing.image import ImageDataGenerator\n",
        "import os"
      ],
      "execution_count": 6,
      "outputs": [
        {
          "output_type": "stream",
          "text": [
            "Using TensorFlow backend.\n"
          ],
          "name": "stderr"
        }
      ]
    },
    {
      "cell_type": "code",
      "metadata": {
        "id": "kE-L4ds4obeZ",
        "colab_type": "code",
        "outputId": "f505af37-c674-4fd1-bdc7-fee5d7e48537",
        "colab": {
          "base_uri": "https://localhost:8080/",
          "height": 34
        }
      },
      "source": [
        "data_dir = os.path.join(\"drive\", \"My Drive\", \"IIT\", \"DeepLearning\", \"Project\", \"Datasets\", \"Brain_Scans\")\n",
        "train_dir = os.path.join(data_dir, \"train\")\n",
        "augm_dir = os.path.join(data_dir, \"augm\")\n",
        "print(os.path.isdir(augm_dir))\n",
        "num_generated_batches = 125"
      ],
      "execution_count": 7,
      "outputs": [
        {
          "output_type": "stream",
          "text": [
            "True\n"
          ],
          "name": "stdout"
        }
      ]
    },
    {
      "cell_type": "code",
      "metadata": {
        "id": "Z-AiMe6VrAbw",
        "colab_type": "code",
        "colab": {}
      },
      "source": [
        "data_gen = ImageDataGenerator(shear_range=0.,\n",
        "    zoom_range=0.05,\n",
        "    rotation_range=2,\n",
        "    width_shift_range=0.05,\n",
        "    height_shift_range=0.05,\n",
        "    horizontal_flip=True,\n",
        "    vertical_flip=True,\n",
        "    fill_mode='constant',\n",
        "    cval=0)\n",
        "\n",
        "data_generator = data_gen.flow_from_directory(train_dir,\n",
        "                                                   target_size=(150, 150),\n",
        "                                                   batch_size=32,\n",
        "                                                   class_mode='binary',\n",
        "                                                    save_to_dir=os.path.join(augm_dir, \"0\"),\n",
        "                                                    save_prefix='aug',\n",
        "                                                    save_format='png',\n",
        "                                                    color_mode=\"grayscale\",\n",
        "                                                    classes=[\"0\"]\n",
        "                                                    )\n",
        "cnt = 1\n",
        "for x in data_generator:\n",
        "  print(cnt)\n",
        "  if cnt >= num_generated_batches:\n",
        "    break\n",
        "  cnt += 1\n"
      ],
      "execution_count": 0,
      "outputs": []
    },
    {
      "cell_type": "code",
      "metadata": {
        "id": "WimFC-S-ztwk",
        "colab_type": "code",
        "outputId": "c38d5829-86c4-40b5-ac2b-ba2f6e738e3b",
        "colab": {
          "base_uri": "https://localhost:8080/",
          "height": 289
        }
      },
      "source": [
        "data_generator_1 = data_gen.flow_from_directory(train_dir,\n",
        "                                                   target_size=(150, 150),\n",
        "                                                   batch_size=32,\n",
        "                                                   class_mode='binary',\n",
        "                                                    save_to_dir=os.path.join(augm_dir, \"1\"),\n",
        "                                                    save_prefix='aug',\n",
        "                                                    save_format='png',\n",
        "                                                    color_mode=\"grayscale\",\n",
        "                                                    classes=[\"1\"]\n",
        "                                                    )\n",
        "cnt = 1\n",
        "for x in data_generator_1:\n",
        "  print(cnt)\n",
        "  if cnt >= num_generated_batches:\n",
        "    break\n",
        "  cnt += 1"
      ],
      "execution_count": 0,
      "outputs": [
        {
          "output_type": "stream",
          "text": [
            "Found 75 images belonging to 1 classes.\n",
            "1\n",
            "2\n",
            "3\n",
            "4\n",
            "5\n",
            "6\n",
            "7\n",
            "8\n",
            "9\n",
            "10\n",
            "11\n",
            "12\n",
            "13\n",
            "14\n",
            "15\n"
          ],
          "name": "stdout"
        }
      ]
    },
    {
      "cell_type": "markdown",
      "metadata": {
        "id": "LpWpGbQ-kvNZ",
        "colab_type": "text"
      },
      "source": [
        "#GAN Implementation"
      ]
    },
    {
      "cell_type": "code",
      "metadata": {
        "id": "09GkA3vkIgtv",
        "colab_type": "code",
        "colab": {}
      },
      "source": [
        "import tensorflow as tf\n",
        "from tensorflow.keras.layers import Input, Reshape, Dropout, Dense, Flatten, BatchNormalization, Activation, ZeroPadding2D\n",
        "from tensorflow.keras.layers import LeakyReLU\n",
        "from tensorflow.keras.layers import UpSampling2D, Conv2D\n",
        "from tensorflow.keras.models import Sequential, Model, load_model\n",
        "from tensorflow.keras.optimizers import Adam\n",
        "import numpy as np\n",
        "from PIL import Image\n",
        "from tqdm import tqdm\n",
        "import os \n",
        "import time\n",
        "import matplotlib.pyplot as plt"
      ],
      "execution_count": 0,
      "outputs": []
    },
    {
      "cell_type": "code",
      "metadata": {
        "id": "Dk1RDUgSPvL7",
        "colab_type": "code",
        "outputId": "465fb15d-99b6-4c00-a457-7383203f1cb5",
        "colab": {
          "base_uri": "https://localhost:8080/",
          "height": 717
        }
      },
      "source": [
        "resolver = tf.distribute.cluster_resolver.TPUClusterResolver(tpu='grpc://' + os.environ['COLAB_TPU_ADDR'])\n",
        "tf.config.experimental_connect_to_cluster(resolver)\n",
        "# This is the TPU initialization code that has to be at the beginning.\n",
        "tf.tpu.experimental.initialize_tpu_system(resolver)\n",
        "strategy = tf.distribute.experimental.TPUStrategy(resolver)"
      ],
      "execution_count": 4,
      "outputs": [
        {
          "output_type": "stream",
          "text": [
            "INFO:tensorflow:Initializing the TPU system: grpc://10.61.40.18:8470\n"
          ],
          "name": "stdout"
        },
        {
          "output_type": "stream",
          "text": [
            "INFO:tensorflow:Initializing the TPU system: grpc://10.61.40.18:8470\n"
          ],
          "name": "stderr"
        },
        {
          "output_type": "stream",
          "text": [
            "INFO:tensorflow:Clearing out eager caches\n"
          ],
          "name": "stdout"
        },
        {
          "output_type": "stream",
          "text": [
            "INFO:tensorflow:Clearing out eager caches\n"
          ],
          "name": "stderr"
        },
        {
          "output_type": "stream",
          "text": [
            "INFO:tensorflow:Finished initializing TPU system.\n"
          ],
          "name": "stdout"
        },
        {
          "output_type": "stream",
          "text": [
            "INFO:tensorflow:Finished initializing TPU system.\n"
          ],
          "name": "stderr"
        },
        {
          "output_type": "stream",
          "text": [
            "INFO:tensorflow:Found TPU system:\n"
          ],
          "name": "stdout"
        },
        {
          "output_type": "stream",
          "text": [
            "INFO:tensorflow:Found TPU system:\n"
          ],
          "name": "stderr"
        },
        {
          "output_type": "stream",
          "text": [
            "INFO:tensorflow:*** Num TPU Cores: 8\n"
          ],
          "name": "stdout"
        },
        {
          "output_type": "stream",
          "text": [
            "INFO:tensorflow:*** Num TPU Cores: 8\n"
          ],
          "name": "stderr"
        },
        {
          "output_type": "stream",
          "text": [
            "INFO:tensorflow:*** Num TPU Workers: 1\n"
          ],
          "name": "stdout"
        },
        {
          "output_type": "stream",
          "text": [
            "INFO:tensorflow:*** Num TPU Workers: 1\n"
          ],
          "name": "stderr"
        },
        {
          "output_type": "stream",
          "text": [
            "INFO:tensorflow:*** Num TPU Cores Per Worker: 8\n"
          ],
          "name": "stdout"
        },
        {
          "output_type": "stream",
          "text": [
            "INFO:tensorflow:*** Num TPU Cores Per Worker: 8\n"
          ],
          "name": "stderr"
        },
        {
          "output_type": "stream",
          "text": [
            "INFO:tensorflow:*** Available Device: _DeviceAttributes(/job:localhost/replica:0/task:0/device:CPU:0, CPU, 0, 0)\n"
          ],
          "name": "stdout"
        },
        {
          "output_type": "stream",
          "text": [
            "INFO:tensorflow:*** Available Device: _DeviceAttributes(/job:localhost/replica:0/task:0/device:CPU:0, CPU, 0, 0)\n"
          ],
          "name": "stderr"
        },
        {
          "output_type": "stream",
          "text": [
            "INFO:tensorflow:*** Available Device: _DeviceAttributes(/job:localhost/replica:0/task:0/device:XLA_CPU:0, XLA_CPU, 0, 0)\n"
          ],
          "name": "stdout"
        },
        {
          "output_type": "stream",
          "text": [
            "INFO:tensorflow:*** Available Device: _DeviceAttributes(/job:localhost/replica:0/task:0/device:XLA_CPU:0, XLA_CPU, 0, 0)\n"
          ],
          "name": "stderr"
        },
        {
          "output_type": "stream",
          "text": [
            "INFO:tensorflow:*** Available Device: _DeviceAttributes(/job:worker/replica:0/task:0/device:CPU:0, CPU, 0, 0)\n"
          ],
          "name": "stdout"
        },
        {
          "output_type": "stream",
          "text": [
            "INFO:tensorflow:*** Available Device: _DeviceAttributes(/job:worker/replica:0/task:0/device:CPU:0, CPU, 0, 0)\n"
          ],
          "name": "stderr"
        },
        {
          "output_type": "stream",
          "text": [
            "INFO:tensorflow:*** Available Device: _DeviceAttributes(/job:worker/replica:0/task:0/device:TPU:0, TPU, 0, 0)\n"
          ],
          "name": "stdout"
        },
        {
          "output_type": "stream",
          "text": [
            "INFO:tensorflow:*** Available Device: _DeviceAttributes(/job:worker/replica:0/task:0/device:TPU:0, TPU, 0, 0)\n"
          ],
          "name": "stderr"
        },
        {
          "output_type": "stream",
          "text": [
            "INFO:tensorflow:*** Available Device: _DeviceAttributes(/job:worker/replica:0/task:0/device:TPU:1, TPU, 0, 0)\n"
          ],
          "name": "stdout"
        },
        {
          "output_type": "stream",
          "text": [
            "INFO:tensorflow:*** Available Device: _DeviceAttributes(/job:worker/replica:0/task:0/device:TPU:1, TPU, 0, 0)\n"
          ],
          "name": "stderr"
        },
        {
          "output_type": "stream",
          "text": [
            "INFO:tensorflow:*** Available Device: _DeviceAttributes(/job:worker/replica:0/task:0/device:TPU:2, TPU, 0, 0)\n"
          ],
          "name": "stdout"
        },
        {
          "output_type": "stream",
          "text": [
            "INFO:tensorflow:*** Available Device: _DeviceAttributes(/job:worker/replica:0/task:0/device:TPU:2, TPU, 0, 0)\n"
          ],
          "name": "stderr"
        },
        {
          "output_type": "stream",
          "text": [
            "INFO:tensorflow:*** Available Device: _DeviceAttributes(/job:worker/replica:0/task:0/device:TPU:3, TPU, 0, 0)\n"
          ],
          "name": "stdout"
        },
        {
          "output_type": "stream",
          "text": [
            "INFO:tensorflow:*** Available Device: _DeviceAttributes(/job:worker/replica:0/task:0/device:TPU:3, TPU, 0, 0)\n"
          ],
          "name": "stderr"
        },
        {
          "output_type": "stream",
          "text": [
            "INFO:tensorflow:*** Available Device: _DeviceAttributes(/job:worker/replica:0/task:0/device:TPU:4, TPU, 0, 0)\n"
          ],
          "name": "stdout"
        },
        {
          "output_type": "stream",
          "text": [
            "INFO:tensorflow:*** Available Device: _DeviceAttributes(/job:worker/replica:0/task:0/device:TPU:4, TPU, 0, 0)\n"
          ],
          "name": "stderr"
        },
        {
          "output_type": "stream",
          "text": [
            "INFO:tensorflow:*** Available Device: _DeviceAttributes(/job:worker/replica:0/task:0/device:TPU:5, TPU, 0, 0)\n"
          ],
          "name": "stdout"
        },
        {
          "output_type": "stream",
          "text": [
            "INFO:tensorflow:*** Available Device: _DeviceAttributes(/job:worker/replica:0/task:0/device:TPU:5, TPU, 0, 0)\n"
          ],
          "name": "stderr"
        },
        {
          "output_type": "stream",
          "text": [
            "INFO:tensorflow:*** Available Device: _DeviceAttributes(/job:worker/replica:0/task:0/device:TPU:6, TPU, 0, 0)\n"
          ],
          "name": "stdout"
        },
        {
          "output_type": "stream",
          "text": [
            "INFO:tensorflow:*** Available Device: _DeviceAttributes(/job:worker/replica:0/task:0/device:TPU:6, TPU, 0, 0)\n"
          ],
          "name": "stderr"
        },
        {
          "output_type": "stream",
          "text": [
            "INFO:tensorflow:*** Available Device: _DeviceAttributes(/job:worker/replica:0/task:0/device:TPU:7, TPU, 0, 0)\n"
          ],
          "name": "stdout"
        },
        {
          "output_type": "stream",
          "text": [
            "INFO:tensorflow:*** Available Device: _DeviceAttributes(/job:worker/replica:0/task:0/device:TPU:7, TPU, 0, 0)\n"
          ],
          "name": "stderr"
        },
        {
          "output_type": "stream",
          "text": [
            "INFO:tensorflow:*** Available Device: _DeviceAttributes(/job:worker/replica:0/task:0/device:TPU_SYSTEM:0, TPU_SYSTEM, 0, 0)\n"
          ],
          "name": "stdout"
        },
        {
          "output_type": "stream",
          "text": [
            "INFO:tensorflow:*** Available Device: _DeviceAttributes(/job:worker/replica:0/task:0/device:TPU_SYSTEM:0, TPU_SYSTEM, 0, 0)\n"
          ],
          "name": "stderr"
        },
        {
          "output_type": "stream",
          "text": [
            "INFO:tensorflow:*** Available Device: _DeviceAttributes(/job:worker/replica:0/task:0/device:XLA_CPU:0, XLA_CPU, 0, 0)\n"
          ],
          "name": "stdout"
        },
        {
          "output_type": "stream",
          "text": [
            "INFO:tensorflow:*** Available Device: _DeviceAttributes(/job:worker/replica:0/task:0/device:XLA_CPU:0, XLA_CPU, 0, 0)\n"
          ],
          "name": "stderr"
        }
      ]
    },
    {
      "cell_type": "code",
      "metadata": {
        "id": "YsEYYTPmIiyZ",
        "colab_type": "code",
        "outputId": "e0b73aa7-22fe-4ecb-ecc4-538af354096a",
        "colab": {
          "base_uri": "https://localhost:8080/",
          "height": 34
        }
      },
      "source": [
        "# Generation resolution - Must be square \n",
        "# Training data is also scaled to this.\n",
        "# Note GENERATE_RES 4 or higher  will blow Google CoLab's memory and have not\n",
        "# been tested extensivly.\n",
        "GENERATE_RES = 2 # Generation resolution factor (1=32, 2=64, 3=96, 4=128, etc.)\n",
        "GENERATE_SQUARE = 32 * GENERATE_RES # rows/cols (should be square)\n",
        "IMAGE_CHANNELS = 1\n",
        "\n",
        "# Preview image \n",
        "PREVIEW_ROWS = 5\n",
        "PREVIEW_COLS = 8\n",
        "PREVIEW_MARGIN = 16\n",
        "\n",
        "# Size vector to generate images from\n",
        "SEED_SIZE = 50\n",
        "\n",
        "# Configuration\n",
        "DATA_PATH = train_dir # Training data directory path set here\n",
        "EPOCHS = 500\n",
        "BATCH_SIZE = 10\n",
        "BUFFER_SIZE = 60000\n",
        "\n",
        "print(f\"Will generate {GENERATE_SQUARE}px square images.\")"
      ],
      "execution_count": 8,
      "outputs": [
        {
          "output_type": "stream",
          "text": [
            "Will generate 64px square images.\n"
          ],
          "name": "stdout"
        }
      ]
    },
    {
      "cell_type": "code",
      "metadata": {
        "id": "MQO64VeEIxbT",
        "colab_type": "code",
        "outputId": "22e84456-c9f4-4583-8197-2166e607c23f",
        "colab": {
          "base_uri": "https://localhost:8080/",
          "height": 102
        }
      },
      "source": [
        "# Image set has 11,682 images.  Can take over an hour for initial preprocessing.\n",
        "# Because of this time needed, save a Numpy preprocessed file.\n",
        "# Note, that file is large enough to cause problems for sume verisons of Pickle,\n",
        "# so Numpy binary files are used.\n",
        "training_binary_path = os.path.join(DATA_PATH,f'training_data_{GENERATE_SQUARE}_{GENERATE_SQUARE}.npy')\n",
        "\n",
        "print(f\"Looking for file: {training_binary_path}\")\n",
        "\n",
        "if not os.path.isfile(training_binary_path):\n",
        "  start = time.time()\n",
        "  print(\"Loading training images...\")\n",
        "\n",
        "  training_data = []\n",
        "  data_class_path = os.path.join(DATA_PATH,'1')\n",
        "  for filename in tqdm(os.listdir(data_class_path)):\n",
        "      path = os.path.join(data_class_path,filename)\n",
        "      image = Image.open(path).resize((GENERATE_SQUARE,GENERATE_SQUARE),Image.ANTIALIAS)\n",
        "      if IMAGE_CHANNELS == 1:\n",
        "        image = image.convert('L')\n",
        "      training_data.append(np.asarray(image))\n",
        "  # training_data = np.asarray(training_data)\n",
        "  training_data = np.reshape(training_data,(-1,GENERATE_SQUARE,GENERATE_SQUARE,IMAGE_CHANNELS))\n",
        "  training_data = training_data.astype(np.float32)\n",
        "  training_data = training_data / 127.5 - 1.\n",
        "  np.random.shuffle(training_data)\n",
        "\n",
        "\n",
        "  print(\"Saving training image binary...\")\n",
        "  np.save(training_binary_path,training_data)\n",
        "  elapsed = time.time()-start\n",
        "  print (f'Image preprocess time: {hms_string(elapsed)}')\n",
        "else:\n",
        "  print(\"Loading previous training pickle...\")\n",
        "  training_data = np.load(training_binary_path)"
      ],
      "execution_count": 9,
      "outputs": [
        {
          "output_type": "stream",
          "text": [
            "Looking for file: drive/My Drive/IIT/DeepLearning/Project/Datasets/Brain_Scans/train/training_data_64_64.npy\n",
            "Loading training images...\n"
          ],
          "name": "stdout"
        },
        {
          "output_type": "stream",
          "text": [
            "100%|██████████| 75/75 [00:18<00:00,  4.16it/s]"
          ],
          "name": "stderr"
        },
        {
          "output_type": "stream",
          "text": [
            "Saving training image binary...\n",
            "Image preprocess time: 0:00:19.84\n"
          ],
          "name": "stdout"
        },
        {
          "output_type": "stream",
          "text": [
            "\n"
          ],
          "name": "stderr"
        }
      ]
    },
    {
      "cell_type": "code",
      "metadata": {
        "id": "njcs-AeRNHae",
        "colab_type": "code",
        "colab": {}
      },
      "source": [
        "train_dataset = tf.data.Dataset.from_tensor_slices(training_data).shuffle(BUFFER_SIZE).batch(BATCH_SIZE)"
      ],
      "execution_count": 0,
      "outputs": []
    },
    {
      "cell_type": "code",
      "metadata": {
        "id": "bcDUCx5iNPkp",
        "colab_type": "code",
        "colab": {}
      },
      "source": [
        "def build_generator(seed_size, channels):\n",
        "    model = Sequential()\n",
        "\n",
        "    model.add(Dense(4*4*1024,activation=\"relu\",input_dim=seed_size))\n",
        "    model.add(Reshape((4,4,1024)))\n",
        "\n",
        "    model.add(UpSampling2D())\n",
        "    model.add(Conv2D(512,kernel_size=3,padding=\"same\"))\n",
        "    model.add(BatchNormalization(momentum=0.8))\n",
        "    model.add(Activation(\"relu\"))\n",
        "\n",
        "    model.add(UpSampling2D())\n",
        "    model.add(Conv2D(256,kernel_size=3,padding=\"same\"))\n",
        "    model.add(BatchNormalization(momentum=0.8))\n",
        "    model.add(Activation(\"relu\"))\n",
        "   \n",
        "    # Output resolution, additional upsampling\n",
        "    model.add(UpSampling2D())\n",
        "    model.add(Conv2D(128,kernel_size=3,padding=\"same\"))\n",
        "    model.add(BatchNormalization(momentum=0.8))\n",
        "    model.add(Activation(\"relu\"))\n",
        "\n",
        "    if GENERATE_RES>1:\n",
        "      model.add(UpSampling2D(size=(GENERATE_RES,GENERATE_RES)))\n",
        "      model.add(Conv2D(128,kernel_size=3,padding=\"same\"))\n",
        "      model.add(BatchNormalization(momentum=0.8))\n",
        "      model.add(Activation(\"relu\"))\n",
        "\n",
        "    # Final CNN layer\n",
        "    model.add(Conv2D(channels,kernel_size=3,padding=\"same\"))\n",
        "    model.add(Activation(\"tanh\"))\n",
        "\n",
        "    return model\n",
        "\n",
        "\n",
        "def build_discriminator(image_shape):\n",
        "    model = Sequential()\n",
        "\n",
        "    model.add(Conv2D(32, kernel_size=3, strides=2, input_shape=image_shape, padding=\"same\"))\n",
        "    model.add(LeakyReLU(alpha=0.2))\n",
        "\n",
        "    model.add(Dropout(0.25))\n",
        "    model.add(Conv2D(128, kernel_size=3, strides=2, padding=\"same\"))\n",
        "    model.add(ZeroPadding2D(padding=((0,1),(0,1))))\n",
        "    model.add(BatchNormalization(momentum=0.8))\n",
        "    model.add(LeakyReLU(alpha=0.2))\n",
        "\n",
        "    model.add(Dropout(0.25))\n",
        "    model.add(Conv2D(256, kernel_size=3, strides=2, padding=\"same\"))\n",
        "    model.add(BatchNormalization(momentum=0.8))\n",
        "    model.add(LeakyReLU(alpha=0.2))\n",
        "\n",
        "    model.add(Dropout(0.25))\n",
        "    model.add(Conv2D(512, kernel_size=3, strides=1, padding=\"same\"))\n",
        "    model.add(BatchNormalization(momentum=0.8))\n",
        "    model.add(LeakyReLU(alpha=0.2))\n",
        "\n",
        "    model.add(Dropout(0.25))\n",
        "    model.add(Conv2D(512, kernel_size=3, strides=1, padding=\"same\"))\n",
        "    model.add(BatchNormalization(momentum=0.8))\n",
        "    model.add(LeakyReLU(alpha=0.2))\n",
        "\n",
        "    model.add(Dropout(0.25))\n",
        "    model.add(Flatten())\n",
        "    model.add(Dense(1, activation='sigmoid'))\n",
        "\n",
        "    return model"
      ],
      "execution_count": 0,
      "outputs": []
    },
    {
      "cell_type": "code",
      "metadata": {
        "id": "p-91uQclNV40",
        "colab_type": "code",
        "colab": {}
      },
      "source": [
        "def save_images(cnt,noise):\n",
        "  image_array = np.full(( \n",
        "      PREVIEW_MARGIN + (PREVIEW_ROWS * (GENERATE_SQUARE+PREVIEW_MARGIN)), \n",
        "      PREVIEW_MARGIN + (PREVIEW_COLS * (GENERATE_SQUARE+PREVIEW_MARGIN)), 3), \n",
        "      255, dtype=np.uint8)\n",
        "  \n",
        "  generated_images = generator.predict(noise)\n",
        "\n",
        "  generated_images = 0.5 * generated_images + 0.5\n",
        "\n",
        "  image_count = 0\n",
        "  for row in range(PREVIEW_ROWS):\n",
        "      for col in range(PREVIEW_COLS):\n",
        "        r = row * (GENERATE_SQUARE+16) + PREVIEW_MARGIN\n",
        "        c = col * (GENERATE_SQUARE+16) + PREVIEW_MARGIN\n",
        "        image_array[r:r+GENERATE_SQUARE,c:c+GENERATE_SQUARE] = generated_images[image_count] * 255\n",
        "        image_count += 1\n",
        "\n",
        "          \n",
        "  output_path = os.path.join(DATA_PATH,'output')\n",
        "  if not os.path.exists(output_path):\n",
        "    os.makedirs(output_path)\n",
        "  \n",
        "  filename = os.path.join(output_path,f\"train-{cnt}.png\")\n",
        "  im = Image.fromarray(image_array)\n",
        "  im.save(filename)"
      ],
      "execution_count": 0,
      "outputs": []
    },
    {
      "cell_type": "code",
      "metadata": {
        "id": "uyjdjGHyNbz8",
        "colab_type": "code",
        "outputId": "64b8691d-72e5-47e0-9a76-c661ecc6fa5e",
        "colab": {
          "base_uri": "https://localhost:8080/",
          "height": 285
        }
      },
      "source": [
        "generator = build_generator(SEED_SIZE, IMAGE_CHANNELS)\n",
        "\n",
        "noise = tf.random.normal([1, SEED_SIZE])\n",
        "generated_image = generator(noise, training=False)\n",
        "\n",
        "plt.imshow(generated_image[0, :, :, 0])"
      ],
      "execution_count": 13,
      "outputs": [
        {
          "output_type": "execute_result",
          "data": {
            "text/plain": [
              "<matplotlib.image.AxesImage at 0x7f4bf85a3080>"
            ]
          },
          "metadata": {
            "tags": []
          },
          "execution_count": 13
        },
        {
          "output_type": "display_data",
          "data": {
            "image/png": "[encoded data removed]",
            "text/plain": [
              "<Figure size 432x288 with 1 Axes>"
            ]
          },
          "metadata": {
            "tags": [],
            "needs_background": "light"
          }
        }
      ]
    },
    {
      "cell_type": "code",
      "metadata": {
        "id": "FnvNBdHMNeEl",
        "colab_type": "code",
        "outputId": "fab7f699-d0f2-4d14-d13d-84d0a471e62d",
        "colab": {
          "base_uri": "https://localhost:8080/",
          "height": 34
        }
      },
      "source": [
        "image_shape = (GENERATE_SQUARE,GENERATE_SQUARE,IMAGE_CHANNELS)\n",
        "\n",
        "discriminator = build_discriminator(image_shape)\n",
        "decision = discriminator(generated_image)\n",
        "print (decision)"
      ],
      "execution_count": 14,
      "outputs": [
        {
          "output_type": "stream",
          "text": [
            "tf.Tensor([[0.4997053]], shape=(1, 1), dtype=float32)\n"
          ],
          "name": "stdout"
        }
      ]
    },
    {
      "cell_type": "code",
      "metadata": {
        "id": "yuyizVORNqgj",
        "colab_type": "code",
        "colab": {}
      },
      "source": [
        "cross_entropy = tf.keras.losses.BinaryCrossentropy(from_logits=True)\n",
        "\n",
        "def discriminator_loss(real_output, fake_output):\n",
        "    real_loss = cross_entropy(tf.ones_like(real_output), real_output)\n",
        "    fake_loss = cross_entropy(tf.zeros_like(fake_output), fake_output)\n",
        "    total_loss = real_loss + fake_loss\n",
        "    return total_loss\n",
        "\n",
        "def generator_loss(fake_output):\n",
        "    return cross_entropy(tf.ones_like(fake_output), fake_output)"
      ],
      "execution_count": 0,
      "outputs": []
    },
    {
      "cell_type": "code",
      "metadata": {
        "id": "BTmwwDvjNuXE",
        "colab_type": "code",
        "colab": {}
      },
      "source": [
        "generator_optimizer = tf.keras.optimizers.Adam(1.5e-4,0.5)\n",
        "discriminator_optimizer = tf.keras.optimizers.Adam(1.5e-4,0.5)"
      ],
      "execution_count": 0,
      "outputs": []
    },
    {
      "cell_type": "code",
      "metadata": {
        "id": "TuUMtAOoNzH-",
        "colab_type": "code",
        "colab": {}
      },
      "source": [
        "# This annotation causes the function to be \"compiled\".\n",
        "@tf.function\n",
        "def train_step(images):\n",
        "  seed = tf.random.normal([BATCH_SIZE, SEED_SIZE])\n",
        "\n",
        "  with tf.GradientTape() as gen_tape, tf.GradientTape() as disc_tape:\n",
        "    generated_images = generator(seed, training=True)\n",
        "\n",
        "    real_output = discriminator(images, training=True)\n",
        "    fake_output = discriminator(generated_images, training=True)\n",
        "\n",
        "    gen_loss = generator_loss(fake_output)\n",
        "    disc_loss = discriminator_loss(real_output, fake_output)\n",
        "    \n",
        "\n",
        "    gradients_of_generator = gen_tape.gradient(gen_loss, generator.trainable_variables)\n",
        "    gradients_of_discriminator = disc_tape.gradient(disc_loss, discriminator.trainable_variables)\n",
        "\n",
        "    generator_optimizer.apply_gradients(zip(gradients_of_generator, generator.trainable_variables))\n",
        "    discriminator_optimizer.apply_gradients(zip(gradients_of_discriminator, discriminator.trainable_variables))\n",
        "  return gen_loss,disc_loss"
      ],
      "execution_count": 0,
      "outputs": []
    },
    {
      "cell_type": "code",
      "metadata": {
        "id": "ALHQmj-J6jVp",
        "colab_type": "code",
        "colab": {}
      },
      "source": [
        "def display_GAN_training_graph(gen_losses, dis_losses):\n",
        "  steps = range(1, len(gen_losses) + 1)\n",
        "  plt.plot(steps, gen_losses, 'bo', label='Generator Loss') # blue dots\\n\",\n",
        "  plt.plot(steps, dis_losses, 'b', label='Discriminator Loss') # blue lines\\n\",\n",
        "  plt.title('Training Loss')\n",
        "  plt.xlabel('Epochs')\n",
        "  plt.ylabel('Loss')\n",
        "  plt.legend()\n",
        "  plt.show()"
      ],
      "execution_count": 0,
      "outputs": []
    },
    {
      "cell_type": "code",
      "metadata": {
        "id": "x5JYbsndN428",
        "colab_type": "code",
        "colab": {}
      },
      "source": [
        "def train(dataset, epochs):\n",
        "  fixed_seed = np.random.normal(0, 1, (PREVIEW_ROWS * PREVIEW_COLS, SEED_SIZE))\n",
        "  print(fixed_seed)\n",
        "  start = time.time()\n",
        "  epoch_gen_losses = []\n",
        "  epoch_disc_losses = []\n",
        "\n",
        "  for epoch in range(epochs):\n",
        "    epoch_start = time.time()\n",
        "\n",
        "    batch_gen_losses = []\n",
        "    batch_disc_losses = []\n",
        "\n",
        "    for image_batch in dataset:\n",
        "      t = train_step(image_batch)\n",
        "      batch_gen_losses.append(t[0])\n",
        "      batch_disc_losses.append(t[1])\n",
        "\n",
        "    g_loss = sum(batch_gen_losses) / len(batch_gen_losses)\n",
        "    d_loss = sum(batch_disc_losses) / len(batch_disc_losses)\n",
        "    epoch_gen_losses.append(g_loss)\n",
        "    epoch_disc_losses.append(d_loss)\n",
        "\n",
        "    epoch_elapsed = time.time()-epoch_start\n",
        "    print (f'Epoch {epoch+1}, gen loss={g_loss},disc loss={d_loss}, {hms_string(epoch_elapsed)}')\n",
        "    save_images(epoch,fixed_seed)\n",
        "  \n",
        "  display_GAN_training_graph(epoch_gen_losses, epoch_disc_losses)\n",
        "\n",
        "  elapsed = time.time()-start\n",
        "  print (f'Training time: {hms_string(elapsed)}')\n"
      ],
      "execution_count": 0,
      "outputs": []
    },
    {
      "cell_type": "code",
      "metadata": {
        "id": "OwojijteN-s4",
        "colab_type": "code",
        "outputId": "a9027962-7f9a-4488-f7fc-7d2e1a835212",
        "colab": {
          "base_uri": "https://localhost:8080/",
          "height": 1000
        }
      },
      "source": [
        "train(train_dataset, 350)"
      ],
      "execution_count": 20,
      "outputs": [
        {
          "output_type": "stream",
          "text": [
            "[[ 1.58379993 -0.2250998  -0.35632136 ...  0.39139964 -1.31134173\n",
            "   0.73180053]\n",
            " [ 1.79847143  0.24043679 -1.34587289 ... -0.30042586 -0.97912233\n",
            "   0.36327299]\n",
            " [-0.02231761  0.90995791 -1.14911652 ... -0.22671509 -0.6716277\n",
            "   0.9340538 ]\n",
            " ...\n",
            " [ 0.16361224  2.13383289  1.11127683 ... -1.65105595  1.46489358\n",
            "  -0.35198929]\n",
            " [-0.53792412  0.29287107  1.63277574 ... -0.64902847 -1.50643831\n",
            "   0.18362152]\n",
            " [-0.69963226 -0.12522249  1.29992156 ...  0.05422044 -0.5493758\n",
            "  -0.97162183]]\n",
            "Epoch 1, gen loss=0.6253681182861328,disc loss=1.1574641466140747, 0:00:05.35\n",
            "Epoch 2, gen loss=0.6809596419334412,disc loss=1.0347909927368164, 0:00:01.54\n",
            "Epoch 3, gen loss=0.6828879714012146,disc loss=1.0257604122161865, 0:00:01.53\n",
            "Epoch 4, gen loss=0.6874222159385681,disc loss=1.0204368829727173, 0:00:01.55\n",
            "Epoch 5, gen loss=0.6875303387641907,disc loss=1.0156834125518799, 0:00:01.54\n",
            "Epoch 6, gen loss=0.6901432275772095,disc loss=1.0137102603912354, 0:00:01.54\n",
            "Epoch 7, gen loss=0.691222608089447,disc loss=1.0104904174804688, 0:00:01.53\n",
            "Epoch 8, gen loss=0.6913506984710693,disc loss=1.0095388889312744, 0:00:01.54\n",
            "Epoch 9, gen loss=0.6907047629356384,disc loss=1.0099530220031738, 0:00:01.57\n",
            "Epoch 10, gen loss=0.6885510683059692,disc loss=1.0151307582855225, 0:00:01.54\n",
            "Epoch 11, gen loss=0.6752433180809021,disc loss=1.045602560043335, 0:00:01.53\n",
            "Epoch 12, gen loss=0.6865168213844299,disc loss=1.0400254726409912, 0:00:01.55\n",
            "Epoch 13, gen loss=0.6666184663772583,disc loss=1.0728579759597778, 0:00:01.54\n",
            "Epoch 14, gen loss=0.6720002889633179,disc loss=1.063369870185852, 0:00:01.55\n",
            "Epoch 15, gen loss=0.6680316925048828,disc loss=1.0709939002990723, 0:00:01.56\n",
            "Epoch 16, gen loss=0.6518011689186096,disc loss=1.132770299911499, 0:00:01.54\n",
            "Epoch 17, gen loss=0.6478224396705627,disc loss=1.1275514364242554, 0:00:01.55\n",
            "Epoch 18, gen loss=0.6701040267944336,disc loss=1.083251953125, 0:00:01.56\n",
            "Epoch 19, gen loss=0.6472508907318115,disc loss=1.179473876953125, 0:00:01.55\n",
            "Epoch 20, gen loss=0.6053642630577087,disc loss=1.1744356155395508, 0:00:01.55\n",
            "Epoch 21, gen loss=0.6450710296630859,disc loss=1.1650381088256836, 0:00:01.54\n",
            "Epoch 22, gen loss=0.6346138119697571,disc loss=1.1927075386047363, 0:00:01.54\n",
            "Epoch 23, gen loss=0.6174240708351135,disc loss=1.1792752742767334, 0:00:01.58\n",
            "Epoch 24, gen loss=0.6396430730819702,disc loss=1.1274662017822266, 0:00:01.54\n",
            "Epoch 25, gen loss=0.6499530673027039,disc loss=1.1706091165542603, 0:00:01.52\n",
            "Epoch 26, gen loss=0.6093835234642029,disc loss=1.1853758096694946, 0:00:01.56\n",
            "Epoch 27, gen loss=0.6228200793266296,disc loss=1.2068226337432861, 0:00:01.55\n",
            "Epoch 28, gen loss=0.5949404239654541,disc loss=1.2132985591888428, 0:00:01.54\n",
            "Epoch 29, gen loss=0.6268166303634644,disc loss=1.18721604347229, 0:00:01.54\n",
            "Epoch 30, gen loss=0.6430644989013672,disc loss=1.1245746612548828, 0:00:01.55\n",
            "Epoch 31, gen loss=0.5930007696151733,disc loss=1.2259540557861328, 0:00:01.52\n",
            "Epoch 32, gen loss=0.6330967545509338,disc loss=1.253962755203247, 0:00:01.52\n",
            "Epoch 33, gen loss=0.6582640409469604,disc loss=1.1373666524887085, 0:00:01.53\n",
            "Epoch 34, gen loss=0.6058571338653564,disc loss=1.2165803909301758, 0:00:01.53\n",
            "Epoch 35, gen loss=0.6135357022285461,disc loss=1.1803371906280518, 0:00:01.53\n",
            "Epoch 36, gen loss=0.642396867275238,disc loss=1.2028264999389648, 0:00:01.54\n",
            "Epoch 37, gen loss=0.631098210811615,disc loss=1.1887767314910889, 0:00:01.53\n",
            "Epoch 38, gen loss=0.6525202393531799,disc loss=1.1374504566192627, 0:00:01.54\n",
            "Epoch 39, gen loss=0.6352503895759583,disc loss=1.2022463083267212, 0:00:01.52\n",
            "Epoch 40, gen loss=0.6147488355636597,disc loss=1.1945205926895142, 0:00:01.51\n",
            "Epoch 41, gen loss=0.6484419107437134,disc loss=1.1741955280303955, 0:00:01.51\n",
            "Epoch 42, gen loss=0.6251522302627563,disc loss=1.2370131015777588, 0:00:01.53\n",
            "Epoch 43, gen loss=0.6085671782493591,disc loss=1.2159826755523682, 0:00:01.54\n",
            "Epoch 44, gen loss=0.6252179741859436,disc loss=1.2400585412979126, 0:00:01.53\n",
            "Epoch 45, gen loss=0.6350852847099304,disc loss=1.178673267364502, 0:00:01.54\n",
            "Epoch 46, gen loss=0.6131179332733154,disc loss=1.227662205696106, 0:00:01.52\n",
            "Epoch 47, gen loss=0.5939274430274963,disc loss=1.235615611076355, 0:00:01.53\n",
            "Epoch 48, gen loss=0.6206530332565308,disc loss=1.18231201171875, 0:00:01.53\n",
            "Epoch 49, gen loss=0.6605209112167358,disc loss=1.1835241317749023, 0:00:01.55\n",
            "Epoch 50, gen loss=0.6450896263122559,disc loss=1.147322654724121, 0:00:01.54\n",
            "Epoch 51, gen loss=0.6307373046875,disc loss=1.167455792427063, 0:00:01.53\n",
            "Epoch 52, gen loss=0.6273185014724731,disc loss=1.1880288124084473, 0:00:01.53\n",
            "Epoch 53, gen loss=0.6226638555526733,disc loss=1.1875436305999756, 0:00:01.54\n",
            "Epoch 54, gen loss=0.6219907402992249,disc loss=1.194543719291687, 0:00:01.56\n",
            "Epoch 55, gen loss=0.6016900539398193,disc loss=1.2245204448699951, 0:00:01.51\n",
            "Epoch 56, gen loss=0.6391667723655701,disc loss=1.1673718690872192, 0:00:01.55\n",
            "Epoch 57, gen loss=0.6303955316543579,disc loss=1.302596092224121, 0:00:01.55\n",
            "Epoch 58, gen loss=0.6078346371650696,disc loss=1.2138631343841553, 0:00:01.56\n",
            "Epoch 59, gen loss=0.6362444162368774,disc loss=1.1880438327789307, 0:00:01.51\n",
            "Epoch 60, gen loss=0.6072426438331604,disc loss=1.236310362815857, 0:00:01.55\n",
            "Epoch 61, gen loss=0.6432797312736511,disc loss=1.1903828382492065, 0:00:01.55\n",
            "Epoch 62, gen loss=0.6483444571495056,disc loss=1.1723358631134033, 0:00:01.53\n",
            "Epoch 63, gen loss=0.64846271276474,disc loss=1.2238565683364868, 0:00:01.53\n",
            "Epoch 64, gen loss=0.6354476809501648,disc loss=1.2511258125305176, 0:00:01.54\n",
            "Epoch 65, gen loss=0.6562310457229614,disc loss=1.1331589221954346, 0:00:01.56\n",
            "Epoch 66, gen loss=0.625017523765564,disc loss=1.2182494401931763, 0:00:01.52\n",
            "Epoch 67, gen loss=0.6545301079750061,disc loss=1.178972601890564, 0:00:01.52\n",
            "Epoch 68, gen loss=0.6465514898300171,disc loss=1.1861733198165894, 0:00:01.53\n",
            "Epoch 69, gen loss=0.6304898262023926,disc loss=1.2085607051849365, 0:00:01.53\n",
            "Epoch 70, gen loss=0.647856593132019,disc loss=1.1813102960586548, 0:00:01.54\n",
            "Epoch 71, gen loss=0.6245076656341553,disc loss=1.220909595489502, 0:00:01.52\n",
            "Epoch 72, gen loss=0.6525649428367615,disc loss=1.1501734256744385, 0:00:01.55\n",
            "Epoch 73, gen loss=0.6499154567718506,disc loss=1.2054628133773804, 0:00:01.53\n",
            "Epoch 74, gen loss=0.616622805595398,disc loss=1.1979618072509766, 0:00:01.52\n",
            "Epoch 75, gen loss=0.6498388051986694,disc loss=1.1650738716125488, 0:00:01.53\n",
            "Epoch 76, gen loss=0.6607297658920288,disc loss=1.1270664930343628, 0:00:01.53\n",
            "Epoch 77, gen loss=0.673681914806366,disc loss=1.14523446559906, 0:00:01.52\n",
            "Epoch 78, gen loss=0.615174412727356,disc loss=1.1876946687698364, 0:00:01.54\n",
            "Epoch 79, gen loss=0.6391899585723877,disc loss=1.219014048576355, 0:00:01.55\n",
            "Epoch 80, gen loss=0.6639391183853149,disc loss=1.173235297203064, 0:00:01.55\n",
            "Epoch 81, gen loss=0.6502296328544617,disc loss=1.196976661682129, 0:00:01.54\n",
            "Epoch 82, gen loss=0.6132151484489441,disc loss=1.2179462909698486, 0:00:01.54\n",
            "Epoch 83, gen loss=0.6200123429298401,disc loss=1.2285151481628418, 0:00:01.55\n",
            "Epoch 84, gen loss=0.6475395560264587,disc loss=1.1911779642105103, 0:00:01.55\n",
            "Epoch 85, gen loss=0.6527416706085205,disc loss=1.1659672260284424, 0:00:01.53\n",
            "Epoch 86, gen loss=0.6669591069221497,disc loss=1.1635935306549072, 0:00:01.52\n",
            "Epoch 87, gen loss=0.6523011922836304,disc loss=1.1090714931488037, 0:00:01.54\n",
            "Epoch 88, gen loss=0.6060007214546204,disc loss=1.2003161907196045, 0:00:01.54\n",
            "Epoch 89, gen loss=0.6499133110046387,disc loss=1.1488302946090698, 0:00:01.56\n",
            "Epoch 90, gen loss=0.6759639978408813,disc loss=1.0845913887023926, 0:00:01.55\n",
            "Epoch 91, gen loss=0.6617149114608765,disc loss=1.093945026397705, 0:00:01.53\n",
            "Epoch 92, gen loss=0.6220369935035706,disc loss=1.1803319454193115, 0:00:01.54\n",
            "Epoch 93, gen loss=0.627516508102417,disc loss=1.248687744140625, 0:00:01.56\n",
            "Epoch 94, gen loss=0.6548498868942261,disc loss=1.1579914093017578, 0:00:01.55\n",
            "Epoch 95, gen loss=0.6572741270065308,disc loss=1.113342523574829, 0:00:01.54\n",
            "Epoch 96, gen loss=0.6661065816879272,disc loss=1.208556056022644, 0:00:01.53\n",
            "Epoch 97, gen loss=0.6452996730804443,disc loss=1.1507996320724487, 0:00:01.54\n",
            "Epoch 98, gen loss=0.6429902911186218,disc loss=1.164354920387268, 0:00:01.52\n",
            "Epoch 99, gen loss=0.6563071012496948,disc loss=1.2213878631591797, 0:00:01.55\n",
            "Epoch 100, gen loss=0.5997980237007141,disc loss=1.2631444931030273, 0:00:01.55\n",
            "Epoch 101, gen loss=0.6254549026489258,disc loss=1.2170393466949463, 0:00:01.54\n",
            "Epoch 102, gen loss=0.6544500589370728,disc loss=1.166471242904663, 0:00:01.55\n",
            "Epoch 103, gen loss=0.6677989959716797,disc loss=1.1656293869018555, 0:00:01.57\n",
            "Epoch 104, gen loss=0.648614227771759,disc loss=1.171094298362732, 0:00:01.54\n",
            "Epoch 105, gen loss=0.6576475501060486,disc loss=1.1717853546142578, 0:00:01.56\n",
            "Epoch 106, gen loss=0.6314778327941895,disc loss=1.1910399198532104, 0:00:01.59\n",
            "Epoch 107, gen loss=0.6490673422813416,disc loss=1.122233271598816, 0:00:01.55\n",
            "Epoch 108, gen loss=0.6602341532707214,disc loss=1.1302906274795532, 0:00:01.54\n",
            "Epoch 109, gen loss=0.6640236973762512,disc loss=1.1250139474868774, 0:00:01.54\n",
            "Epoch 110, gen loss=0.652065098285675,disc loss=1.1158580780029297, 0:00:01.54\n",
            "Epoch 111, gen loss=0.646102786064148,disc loss=1.1801984310150146, 0:00:01.55\n",
            "Epoch 112, gen loss=0.6651886701583862,disc loss=1.0880117416381836, 0:00:01.54\n",
            "Epoch 113, gen loss=0.6272191405296326,disc loss=1.2113192081451416, 0:00:01.55\n",
            "Epoch 114, gen loss=0.6341508030891418,disc loss=1.2038084268569946, 0:00:01.55\n",
            "Epoch 115, gen loss=0.6716246604919434,disc loss=1.1670362949371338, 0:00:01.54\n",
            "Epoch 116, gen loss=0.6649673581123352,disc loss=1.143166422843933, 0:00:01.55\n",
            "Epoch 117, gen loss=0.6282660961151123,disc loss=1.2633901834487915, 0:00:01.57\n",
            "Epoch 118, gen loss=0.6434264779090881,disc loss=1.204458236694336, 0:00:01.59\n",
            "Epoch 119, gen loss=0.6588303446769714,disc loss=1.1346027851104736, 0:00:01.59\n",
            "Epoch 120, gen loss=0.6597839593887329,disc loss=1.107559084892273, 0:00:01.55\n",
            "Epoch 121, gen loss=0.6548269391059875,disc loss=1.1665061712265015, 0:00:01.56\n",
            "Epoch 122, gen loss=0.636324405670166,disc loss=1.196927785873413, 0:00:01.53\n",
            "Epoch 123, gen loss=0.6405434608459473,disc loss=1.1762052774429321, 0:00:01.56\n",
            "Epoch 124, gen loss=0.6636159420013428,disc loss=1.1196479797363281, 0:00:01.54\n",
            "Epoch 125, gen loss=0.6391450762748718,disc loss=1.1372278928756714, 0:00:01.54\n",
            "Epoch 126, gen loss=0.6550807356834412,disc loss=1.266408085823059, 0:00:01.55\n",
            "Epoch 127, gen loss=0.6484476923942566,disc loss=1.1324641704559326, 0:00:01.55\n",
            "Epoch 128, gen loss=0.6504417657852173,disc loss=1.2071911096572876, 0:00:01.52\n",
            "Epoch 129, gen loss=0.6458468437194824,disc loss=1.1756925582885742, 0:00:01.53\n",
            "Epoch 130, gen loss=0.6516298055648804,disc loss=1.1319093704223633, 0:00:01.52\n",
            "Epoch 131, gen loss=0.6567139029502869,disc loss=1.1493033170700073, 0:00:01.55\n",
            "Epoch 132, gen loss=0.6369489431381226,disc loss=1.1782376766204834, 0:00:01.53\n",
            "Epoch 133, gen loss=0.6579530239105225,disc loss=1.2589737176895142, 0:00:01.53\n",
            "Epoch 134, gen loss=0.6360644102096558,disc loss=1.19990074634552, 0:00:01.56\n",
            "Epoch 135, gen loss=0.6468670964241028,disc loss=1.198259711265564, 0:00:01.52\n",
            "Epoch 136, gen loss=0.6354312896728516,disc loss=1.163901925086975, 0:00:01.54\n",
            "Epoch 137, gen loss=0.6529741883277893,disc loss=1.1375616788864136, 0:00:01.51\n",
            "Epoch 138, gen loss=0.6426701545715332,disc loss=1.186967372894287, 0:00:01.54\n",
            "Epoch 139, gen loss=0.6523323059082031,disc loss=1.142175555229187, 0:00:01.52\n",
            "Epoch 140, gen loss=0.662572979927063,disc loss=1.1122716665267944, 0:00:01.54\n",
            "Epoch 141, gen loss=0.6559204459190369,disc loss=1.148818016052246, 0:00:01.55\n",
            "Epoch 142, gen loss=0.6346409916877747,disc loss=1.1997575759887695, 0:00:01.55\n",
            "Epoch 143, gen loss=0.6175959706306458,disc loss=1.2052936553955078, 0:00:01.53\n",
            "Epoch 144, gen loss=0.6405208110809326,disc loss=1.2082223892211914, 0:00:01.53\n",
            "Epoch 145, gen loss=0.6350253224372864,disc loss=1.1768078804016113, 0:00:01.54\n",
            "Epoch 146, gen loss=0.6550489664077759,disc loss=1.1396678686141968, 0:00:01.54\n",
            "Epoch 147, gen loss=0.653533399105072,disc loss=1.1786236763000488, 0:00:01.53\n",
            "Epoch 148, gen loss=0.6354069113731384,disc loss=1.1782939434051514, 0:00:01.54\n",
            "Epoch 149, gen loss=0.5674329400062561,disc loss=1.2886738777160645, 0:00:01.54\n",
            "Epoch 150, gen loss=0.6564674377441406,disc loss=1.1259247064590454, 0:00:01.54\n",
            "Epoch 151, gen loss=0.6130125522613525,disc loss=1.1627079248428345, 0:00:01.56\n",
            "Epoch 152, gen loss=0.6478641033172607,disc loss=1.1186959743499756, 0:00:01.55\n",
            "Epoch 153, gen loss=0.6590357422828674,disc loss=1.35146963596344, 0:00:01.54\n",
            "Epoch 154, gen loss=0.6931471824645996,disc loss=1.3810603618621826, 0:00:01.55\n",
            "Epoch 155, gen loss=0.6931471824645996,disc loss=1.3621878623962402, 0:00:01.60\n",
            "Epoch 156, gen loss=0.6899634599685669,disc loss=1.2937545776367188, 0:00:01.63\n",
            "Epoch 157, gen loss=0.663484513759613,disc loss=1.1366817951202393, 0:00:01.59\n",
            "Epoch 158, gen loss=0.6531728506088257,disc loss=1.1292972564697266, 0:00:01.60\n",
            "Epoch 159, gen loss=0.6680220365524292,disc loss=1.0979650020599365, 0:00:01.56\n",
            "Epoch 160, gen loss=0.6477982401847839,disc loss=1.1432479619979858, 0:00:01.61\n",
            "Epoch 161, gen loss=0.6408398151397705,disc loss=1.1532132625579834, 0:00:01.55\n",
            "Epoch 162, gen loss=0.6710789799690247,disc loss=1.1312209367752075, 0:00:01.55\n",
            "Epoch 163, gen loss=0.6641445755958557,disc loss=1.134644865989685, 0:00:01.54\n",
            "Epoch 164, gen loss=0.6582542657852173,disc loss=1.1058220863342285, 0:00:01.55\n",
            "Epoch 165, gen loss=0.6536825299263,disc loss=1.1375412940979004, 0:00:01.54\n",
            "Epoch 166, gen loss=0.6753274202346802,disc loss=1.1201266050338745, 0:00:01.53\n",
            "Epoch 167, gen loss=0.6369251012802124,disc loss=1.1530262231826782, 0:00:01.58\n",
            "Epoch 168, gen loss=0.6722805500030518,disc loss=1.0937731266021729, 0:00:01.53\n",
            "Epoch 169, gen loss=0.6520586013793945,disc loss=1.1104552745819092, 0:00:01.52\n",
            "Epoch 170, gen loss=0.6714240908622742,disc loss=1.1095950603485107, 0:00:01.54\n",
            "Epoch 171, gen loss=0.631731390953064,disc loss=1.1477175951004028, 0:00:01.54\n",
            "Epoch 172, gen loss=0.6473091840744019,disc loss=1.149194359779358, 0:00:01.54\n",
            "Epoch 173, gen loss=0.6586152911186218,disc loss=1.1392319202423096, 0:00:01.52\n",
            "Epoch 174, gen loss=0.660600483417511,disc loss=1.1515522003173828, 0:00:01.53\n",
            "Epoch 175, gen loss=0.647046685218811,disc loss=1.2349461317062378, 0:00:01.54\n",
            "Epoch 176, gen loss=0.6428160667419434,disc loss=1.192819356918335, 0:00:01.53\n",
            "Epoch 177, gen loss=0.6608974933624268,disc loss=1.1693705320358276, 0:00:01.57\n",
            "Epoch 178, gen loss=0.6574522852897644,disc loss=1.1843212842941284, 0:00:01.57\n",
            "Epoch 179, gen loss=0.5906307101249695,disc loss=1.194856882095337, 0:00:01.52\n",
            "Epoch 180, gen loss=0.6818324327468872,disc loss=1.0966711044311523, 0:00:01.55\n",
            "Epoch 181, gen loss=0.6606119275093079,disc loss=1.135767936706543, 0:00:01.54\n",
            "Epoch 182, gen loss=0.6077798008918762,disc loss=1.2056443691253662, 0:00:01.53\n",
            "Epoch 183, gen loss=0.6483385562896729,disc loss=1.1346136331558228, 0:00:01.56\n",
            "Epoch 184, gen loss=0.6492332220077515,disc loss=1.1484235525131226, 0:00:01.53\n",
            "Epoch 185, gen loss=0.6504161357879639,disc loss=1.150658130645752, 0:00:01.56\n",
            "Epoch 186, gen loss=0.6462220549583435,disc loss=1.136642336845398, 0:00:01.55\n",
            "Epoch 187, gen loss=0.6510372161865234,disc loss=1.1368051767349243, 0:00:01.53\n",
            "Epoch 188, gen loss=0.6433387398719788,disc loss=1.18829345703125, 0:00:01.55\n",
            "Epoch 189, gen loss=0.6559708118438721,disc loss=1.1736793518066406, 0:00:01.54\n",
            "Epoch 190, gen loss=0.6526196002960205,disc loss=1.1427556276321411, 0:00:01.55\n",
            "Epoch 191, gen loss=0.6486263871192932,disc loss=1.115007758140564, 0:00:01.53\n",
            "Epoch 192, gen loss=0.6505472660064697,disc loss=1.1413323879241943, 0:00:01.53\n",
            "Epoch 193, gen loss=0.6446065306663513,disc loss=1.119942307472229, 0:00:01.53\n",
            "Epoch 194, gen loss=0.6622588038444519,disc loss=1.1473400592803955, 0:00:01.55\n",
            "Epoch 195, gen loss=0.6415159702301025,disc loss=1.1512763500213623, 0:00:01.52\n",
            "Epoch 196, gen loss=0.6256142258644104,disc loss=1.2064980268478394, 0:00:01.54\n",
            "Epoch 197, gen loss=0.6534742116928101,disc loss=1.3596136569976807, 0:00:01.54\n",
            "Epoch 198, gen loss=0.5905342102050781,disc loss=1.385705828666687, 0:00:01.56\n",
            "Epoch 199, gen loss=0.6506476402282715,disc loss=1.1853885650634766, 0:00:01.53\n",
            "Epoch 200, gen loss=0.6381208300590515,disc loss=1.1926573514938354, 0:00:01.55\n",
            "Epoch 201, gen loss=0.621247410774231,disc loss=1.211298942565918, 0:00:01.53\n",
            "Epoch 202, gen loss=0.6265649795532227,disc loss=1.248253345489502, 0:00:01.55\n",
            "Epoch 203, gen loss=0.6326703429222107,disc loss=1.2178682088851929, 0:00:01.53\n",
            "Epoch 204, gen loss=0.6409426331520081,disc loss=1.2131677865982056, 0:00:01.53\n",
            "Epoch 205, gen loss=0.6403657793998718,disc loss=1.1790587902069092, 0:00:01.55\n",
            "Epoch 206, gen loss=0.6230181455612183,disc loss=1.2273430824279785, 0:00:01.54\n",
            "Epoch 207, gen loss=0.6580358743667603,disc loss=1.1674013137817383, 0:00:01.53\n",
            "Epoch 208, gen loss=0.6531193852424622,disc loss=1.1825134754180908, 0:00:01.53\n",
            "Epoch 209, gen loss=0.6332577466964722,disc loss=1.274819254875183, 0:00:01.54\n",
            "Epoch 210, gen loss=0.6253668665885925,disc loss=1.2120835781097412, 0:00:01.53\n",
            "Epoch 211, gen loss=0.6394068598747253,disc loss=1.1422311067581177, 0:00:01.53\n",
            "Epoch 212, gen loss=0.653876543045044,disc loss=1.1640498638153076, 0:00:01.56\n",
            "Epoch 213, gen loss=0.6406046748161316,disc loss=1.2275334596633911, 0:00:01.53\n",
            "Epoch 214, gen loss=0.6185427308082581,disc loss=1.2403790950775146, 0:00:01.55\n",
            "Epoch 215, gen loss=0.6464897990226746,disc loss=1.2558737993240356, 0:00:01.55\n",
            "Epoch 216, gen loss=0.6574466228485107,disc loss=1.1805322170257568, 0:00:01.55\n",
            "Epoch 217, gen loss=0.6512818336486816,disc loss=1.1554803848266602, 0:00:01.55\n",
            "Epoch 218, gen loss=0.6448248028755188,disc loss=1.2333050966262817, 0:00:01.52\n",
            "Epoch 219, gen loss=0.6413862705230713,disc loss=1.1746697425842285, 0:00:01.51\n",
            "Epoch 220, gen loss=0.6196033358573914,disc loss=1.2646026611328125, 0:00:01.55\n",
            "Epoch 221, gen loss=0.6220943331718445,disc loss=1.2789136171340942, 0:00:01.55\n",
            "Epoch 222, gen loss=0.6199917793273926,disc loss=1.2260303497314453, 0:00:01.51\n",
            "Epoch 223, gen loss=0.6103617548942566,disc loss=1.2591882944107056, 0:00:01.53\n",
            "Epoch 224, gen loss=0.649436891078949,disc loss=1.1808933019638062, 0:00:01.54\n",
            "Epoch 225, gen loss=0.6619919538497925,disc loss=1.1117677688598633, 0:00:01.56\n",
            "Epoch 226, gen loss=0.6546934247016907,disc loss=1.1516774892807007, 0:00:01.51\n",
            "Epoch 227, gen loss=0.6611259579658508,disc loss=1.138411521911621, 0:00:01.52\n",
            "Epoch 228, gen loss=0.6506395936012268,disc loss=1.1285117864608765, 0:00:01.54\n",
            "Epoch 229, gen loss=0.5910533666610718,disc loss=1.2473242282867432, 0:00:01.54\n",
            "Epoch 230, gen loss=0.6380500197410583,disc loss=1.2269188165664673, 0:00:01.54\n",
            "Epoch 231, gen loss=0.6429958343505859,disc loss=1.1857882738113403, 0:00:01.53\n",
            "Epoch 232, gen loss=0.6558881402015686,disc loss=1.1776983737945557, 0:00:01.54\n",
            "Epoch 233, gen loss=0.6503243446350098,disc loss=1.1518592834472656, 0:00:01.54\n",
            "Epoch 234, gen loss=0.6349367499351501,disc loss=1.1566245555877686, 0:00:01.52\n",
            "Epoch 235, gen loss=0.6225175857543945,disc loss=1.200898289680481, 0:00:01.53\n",
            "Epoch 236, gen loss=0.6553586721420288,disc loss=1.1715649366378784, 0:00:01.57\n",
            "Epoch 237, gen loss=0.6371028423309326,disc loss=1.1557931900024414, 0:00:01.54\n",
            "Epoch 238, gen loss=0.6634243130683899,disc loss=1.229553461074829, 0:00:01.53\n",
            "Epoch 239, gen loss=0.6433440446853638,disc loss=1.1841156482696533, 0:00:01.52\n",
            "Epoch 240, gen loss=0.6440426111221313,disc loss=1.1210097074508667, 0:00:01.54\n",
            "Epoch 241, gen loss=0.6511073112487793,disc loss=1.1446199417114258, 0:00:01.53\n",
            "Epoch 242, gen loss=0.6166326403617859,disc loss=1.1770447492599487, 0:00:01.54\n",
            "Epoch 243, gen loss=0.6539374589920044,disc loss=1.2055665254592896, 0:00:01.54\n",
            "Epoch 244, gen loss=0.6461181044578552,disc loss=1.1510634422302246, 0:00:01.53\n",
            "Epoch 245, gen loss=0.6483973860740662,disc loss=1.1714484691619873, 0:00:01.57\n",
            "Epoch 246, gen loss=0.620381236076355,disc loss=1.1994402408599854, 0:00:01.55\n",
            "Epoch 247, gen loss=0.6608777642250061,disc loss=1.1765003204345703, 0:00:01.57\n",
            "Epoch 248, gen loss=0.6470363140106201,disc loss=1.1772712469100952, 0:00:01.53\n",
            "Epoch 249, gen loss=0.6156166195869446,disc loss=1.2289141416549683, 0:00:01.54\n",
            "Epoch 250, gen loss=0.6256060600280762,disc loss=1.2067286968231201, 0:00:01.54\n",
            "Epoch 251, gen loss=0.6103647351264954,disc loss=1.2291147708892822, 0:00:01.54\n",
            "Epoch 252, gen loss=0.6451823115348816,disc loss=1.1780154705047607, 0:00:01.53\n",
            "Epoch 253, gen loss=0.6732949614524841,disc loss=1.1170469522476196, 0:00:01.57\n",
            "Epoch 254, gen loss=0.6386301517486572,disc loss=1.1912072896957397, 0:00:01.52\n",
            "Epoch 255, gen loss=0.6579195857048035,disc loss=1.1685594320297241, 0:00:01.56\n",
            "Epoch 256, gen loss=0.6420406699180603,disc loss=1.2103641033172607, 0:00:01.55\n",
            "Epoch 257, gen loss=0.6453117728233337,disc loss=1.1848663091659546, 0:00:01.56\n",
            "Epoch 258, gen loss=0.6428821682929993,disc loss=1.2011840343475342, 0:00:01.54\n",
            "Epoch 259, gen loss=0.6266002058982849,disc loss=1.1960021257400513, 0:00:01.55\n",
            "Epoch 260, gen loss=0.6372132301330566,disc loss=1.1901575326919556, 0:00:01.53\n",
            "Epoch 261, gen loss=0.6283969879150391,disc loss=1.2078461647033691, 0:00:01.54\n",
            "Epoch 262, gen loss=0.6682270765304565,disc loss=1.1687126159667969, 0:00:01.53\n",
            "Epoch 263, gen loss=0.6161401271820068,disc loss=1.1893699169158936, 0:00:01.55\n",
            "Epoch 264, gen loss=0.6096053123474121,disc loss=1.1871283054351807, 0:00:01.54\n",
            "Epoch 265, gen loss=0.6657291650772095,disc loss=1.134250521659851, 0:00:01.54\n",
            "Epoch 266, gen loss=0.6332549452781677,disc loss=1.1413400173187256, 0:00:01.54\n",
            "Epoch 267, gen loss=0.6383629441261292,disc loss=1.2131537199020386, 0:00:01.52\n",
            "Epoch 268, gen loss=0.6498900651931763,disc loss=1.2014391422271729, 0:00:01.53\n",
            "Epoch 269, gen loss=0.6469711661338806,disc loss=1.1693320274353027, 0:00:01.53\n",
            "Epoch 270, gen loss=0.6321412920951843,disc loss=1.1751201152801514, 0:00:01.52\n",
            "Epoch 271, gen loss=0.6497960686683655,disc loss=1.1826167106628418, 0:00:01.55\n",
            "Epoch 272, gen loss=0.6561587452888489,disc loss=1.0988292694091797, 0:00:01.55\n",
            "Epoch 273, gen loss=0.6412994861602783,disc loss=1.148742437362671, 0:00:01.56\n",
            "Epoch 274, gen loss=0.6652510166168213,disc loss=1.1393842697143555, 0:00:01.53\n",
            "Epoch 275, gen loss=0.6481899619102478,disc loss=1.1565799713134766, 0:00:01.55\n",
            "Epoch 276, gen loss=0.6547586917877197,disc loss=1.207870364189148, 0:00:01.53\n",
            "Epoch 277, gen loss=0.6496060490608215,disc loss=1.2245512008666992, 0:00:01.53\n",
            "Epoch 278, gen loss=0.6369544267654419,disc loss=1.1557717323303223, 0:00:01.53\n",
            "Epoch 279, gen loss=0.6194231510162354,disc loss=1.195715069770813, 0:00:01.54\n",
            "Epoch 280, gen loss=0.6698173880577087,disc loss=1.1288650035858154, 0:00:01.53\n",
            "Epoch 281, gen loss=0.6485720276832581,disc loss=1.157262921333313, 0:00:01.52\n",
            "Epoch 282, gen loss=0.6566474437713623,disc loss=1.129756212234497, 0:00:01.56\n",
            "Epoch 283, gen loss=0.6549878716468811,disc loss=1.255666971206665, 0:00:01.55\n",
            "Epoch 284, gen loss=0.6309350728988647,disc loss=1.2225148677825928, 0:00:01.57\n",
            "Epoch 285, gen loss=0.670746386051178,disc loss=1.0903146266937256, 0:00:01.53\n",
            "Epoch 286, gen loss=0.6558022499084473,disc loss=1.1463226079940796, 0:00:01.51\n",
            "Epoch 287, gen loss=0.6733523011207581,disc loss=1.1577322483062744, 0:00:01.55\n",
            "Epoch 288, gen loss=0.6510285139083862,disc loss=1.1552457809448242, 0:00:01.59\n",
            "Epoch 289, gen loss=0.6204726099967957,disc loss=1.1858699321746826, 0:00:01.55\n",
            "Epoch 290, gen loss=0.6551449298858643,disc loss=1.145194172859192, 0:00:01.53\n",
            "Epoch 291, gen loss=0.6254774332046509,disc loss=1.18375825881958, 0:00:01.56\n",
            "Epoch 292, gen loss=0.631736695766449,disc loss=1.2348324060440063, 0:00:01.56\n",
            "Epoch 293, gen loss=0.6604896187782288,disc loss=1.1794968843460083, 0:00:01.60\n",
            "Epoch 294, gen loss=0.6726735830307007,disc loss=1.1128102540969849, 0:00:01.56\n",
            "Epoch 295, gen loss=0.6599244475364685,disc loss=1.0829684734344482, 0:00:01.56\n",
            "Epoch 296, gen loss=0.630693793296814,disc loss=1.194846749305725, 0:00:01.54\n",
            "Epoch 297, gen loss=0.6450563073158264,disc loss=1.158315658569336, 0:00:01.53\n",
            "Epoch 298, gen loss=0.673331081867218,disc loss=1.1359639167785645, 0:00:01.54\n",
            "Epoch 299, gen loss=0.6676623225212097,disc loss=1.0992428064346313, 0:00:01.54\n",
            "Epoch 300, gen loss=0.6786986589431763,disc loss=1.080278992652893, 0:00:01.55\n",
            "Epoch 301, gen loss=0.6377419829368591,disc loss=1.1848976612091064, 0:00:01.57\n",
            "Epoch 302, gen loss=0.6564646363258362,disc loss=1.1349225044250488, 0:00:01.56\n",
            "Epoch 303, gen loss=0.6624539494514465,disc loss=1.095801830291748, 0:00:01.54\n",
            "Epoch 304, gen loss=0.675366222858429,disc loss=1.118454098701477, 0:00:01.53\n",
            "Epoch 305, gen loss=0.6678658723831177,disc loss=1.120092511177063, 0:00:01.54\n",
            "Epoch 306, gen loss=0.6510956287384033,disc loss=1.126198649406433, 0:00:01.55\n",
            "Epoch 307, gen loss=0.6585749387741089,disc loss=1.156555414199829, 0:00:01.54\n",
            "Epoch 308, gen loss=0.6398757696151733,disc loss=1.1194757223129272, 0:00:01.53\n",
            "Epoch 309, gen loss=0.6639673113822937,disc loss=1.1205883026123047, 0:00:01.55\n",
            "Epoch 310, gen loss=0.6454053521156311,disc loss=1.1552376747131348, 0:00:01.55\n",
            "Epoch 311, gen loss=0.6386590600013733,disc loss=1.188202142715454, 0:00:01.53\n",
            "Epoch 312, gen loss=0.653502881526947,disc loss=1.151058316230774, 0:00:01.55\n",
            "Epoch 313, gen loss=0.6601894497871399,disc loss=1.1253447532653809, 0:00:01.53\n",
            "Epoch 314, gen loss=0.6615117192268372,disc loss=1.0941808223724365, 0:00:01.54\n",
            "Epoch 315, gen loss=0.6565348505973816,disc loss=1.1367895603179932, 0:00:01.55\n",
            "Epoch 316, gen loss=0.6498141288757324,disc loss=1.1539639234542847, 0:00:01.55\n",
            "Epoch 317, gen loss=0.6554723978042603,disc loss=1.1321921348571777, 0:00:01.55\n",
            "Epoch 318, gen loss=0.650972306728363,disc loss=1.2044752836227417, 0:00:01.57\n",
            "Epoch 319, gen loss=0.6574230790138245,disc loss=1.1283016204833984, 0:00:01.54\n",
            "Epoch 320, gen loss=0.6294544339179993,disc loss=1.192543625831604, 0:00:01.53\n",
            "Epoch 321, gen loss=0.6649073958396912,disc loss=1.1086797714233398, 0:00:01.53\n",
            "Epoch 322, gen loss=0.6808860898017883,disc loss=1.0589488744735718, 0:00:01.53\n",
            "Epoch 323, gen loss=0.6733258366584778,disc loss=1.0707306861877441, 0:00:01.56\n",
            "Epoch 324, gen loss=0.6638302206993103,disc loss=1.1008164882659912, 0:00:01.57\n",
            "Epoch 325, gen loss=0.654800295829773,disc loss=1.1307657957077026, 0:00:01.54\n",
            "Epoch 326, gen loss=0.665585458278656,disc loss=1.089501976966858, 0:00:01.54\n",
            "Epoch 327, gen loss=0.6431698799133301,disc loss=1.1681797504425049, 0:00:01.52\n",
            "Epoch 328, gen loss=0.6560356020927429,disc loss=1.0954670906066895, 0:00:01.55\n",
            "Epoch 329, gen loss=0.6628984808921814,disc loss=1.1253820657730103, 0:00:01.54\n",
            "Epoch 330, gen loss=0.6744291186332703,disc loss=1.0811368227005005, 0:00:01.54\n",
            "Epoch 331, gen loss=0.6663028597831726,disc loss=1.0820635557174683, 0:00:01.54\n",
            "Epoch 332, gen loss=0.6592754125595093,disc loss=1.102341890335083, 0:00:01.60\n",
            "Epoch 333, gen loss=0.6575080156326294,disc loss=1.1385302543640137, 0:00:01.60\n",
            "Epoch 334, gen loss=0.6613600850105286,disc loss=1.120676875114441, 0:00:01.61\n",
            "Epoch 335, gen loss=0.6672942638397217,disc loss=1.0953149795532227, 0:00:01.60\n",
            "Epoch 336, gen loss=0.6550186276435852,disc loss=1.1128305196762085, 0:00:01.59\n",
            "Epoch 337, gen loss=0.6630054712295532,disc loss=1.1044535636901855, 0:00:01.60\n",
            "Epoch 338, gen loss=0.6517590284347534,disc loss=1.1301908493041992, 0:00:01.53\n",
            "Epoch 339, gen loss=0.6419726610183716,disc loss=1.1491289138793945, 0:00:01.56\n",
            "Epoch 340, gen loss=0.6505231857299805,disc loss=1.1746444702148438, 0:00:01.55\n",
            "Epoch 341, gen loss=0.6164751648902893,disc loss=1.2170792818069458, 0:00:01.53\n",
            "Epoch 342, gen loss=0.6459658145904541,disc loss=1.18049156665802, 0:00:01.54\n",
            "Epoch 343, gen loss=0.6631936430931091,disc loss=1.1195956468582153, 0:00:01.53\n",
            "Epoch 344, gen loss=0.6752573847770691,disc loss=1.0887008905410767, 0:00:01.53\n",
            "Epoch 345, gen loss=0.6583903431892395,disc loss=1.1072101593017578, 0:00:01.54\n",
            "Epoch 346, gen loss=0.6623426675796509,disc loss=1.1216769218444824, 0:00:01.53\n",
            "Epoch 347, gen loss=0.6627984642982483,disc loss=1.1387617588043213, 0:00:01.55\n",
            "Epoch 348, gen loss=0.6535319089889526,disc loss=1.1308642625808716, 0:00:01.53\n",
            "Epoch 349, gen loss=0.6704335808753967,disc loss=1.1106302738189697, 0:00:01.54\n",
            "Epoch 350, gen loss=0.6723034977912903,disc loss=1.0791529417037964, 0:00:01.54\n"
          ],
          "name": "stdout"
        },
        {
          "output_type": "display_data",
          "data": {
            "image/png": "[encoded data removed]",
            "text/plain": [
              "<Figure size 432x288 with 1 Axes>"
            ]
          },
          "metadata": {
            "tags": [],
            "needs_background": "light"
          }
        },
        {
          "output_type": "stream",
          "text": [
            "Training time: 0:10:18.07\n"
          ],
          "name": "stdout"
        }
      ]
    },
    {
      "cell_type": "code",
      "metadata": {
        "id": "Zz0pHEJxfCwe",
        "colab_type": "code",
        "colab": {}
      },
      "source": [
        "generator.save(os.path.join(train_dir, \"generator_1_latest_350_epochs.h5\"))"
      ],
      "execution_count": 0,
      "outputs": []
    },
    {
      "cell_type": "code",
      "metadata": {
        "id": "Yh3Vb8TLfY39",
        "colab_type": "code",
        "colab": {}
      },
      "source": [
        "discriminator.save(os.path.join(train_dir, \"dicriminator_1_latest_350_epochs.h5\"))"
      ],
      "execution_count": 0,
      "outputs": []
    },
    {
      "cell_type": "code",
      "metadata": {
        "id": "_F59CAqqks_y",
        "colab_type": "code",
        "colab": {}
      },
      "source": [
        "def save_images_2(cnt, save_path):\n",
        "  \n",
        "  noise = np.random.normal(0, 1, (cnt, SEED_SIZE))\n",
        "  generated_images = generator.predict(noise)\n",
        "\n",
        "  generated_images = 0.5 * generated_images + 0.5\n",
        "\n",
        "  for i in range(cnt):\n",
        "  \n",
        "    image_array = np.full(( 64, 64, 3), 255, dtype=np.uint8)\n",
        "    image_array[:, :] = generated_images[i] * 255\n",
        "\n",
        "    filename = os.path.join(save_path,f\"augmented-{i}.png\")\n",
        "    im = Image.fromarray(image_array)\n",
        "    im.save(filename)"
      ],
      "execution_count": 0,
      "outputs": []
    },
    {
      "cell_type": "code",
      "metadata": {
        "id": "M6l8UyUdk7Q1",
        "colab_type": "code",
        "colab": {}
      },
      "source": [
        "save_images_2(1000, os.path.join(train_dir, \"augm_1\"))"
      ],
      "execution_count": 0,
      "outputs": []
    }
  ]
}